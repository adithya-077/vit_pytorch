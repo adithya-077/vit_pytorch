{
 "cells": [
  {
   "cell_type": "code",
   "execution_count": null,
   "id": "a6b9e0a4",
   "metadata": {},
   "outputs": [],
   "source": [
    "## imports\n",
    "import torch\n",
    "from torch import nn\n",
    "from torch import optim\n",
    "from torch.utils.data import DataLoader, Dataset\n",
    "from torchvision import transforms\n",
    "from sklearn.model_selection import train_test_split\n",
    "import matplotlib.pyplot as plt\n",
    "import pandas as pd \n",
    "import numpy as np\n",
    "import random\n",
    "from tqdm import tqdm\n",
    "import timeit"
   ]
  },
  {
   "cell_type": "code",
   "execution_count": null,
   "id": "e0f64955",
   "metadata": {},
   "outputs": [],
   "source": [
    "##CUDA settings\n",
    "random.seed(0)\n",
    "torch.manual_seed(0)\n",
    "np.random.seed(0)\n",
    "torch.cuda.manual_seed(0)\n",
    "torch.cuda.manual_seed_all(0)\n",
    "torch.backends.cudnn.deterministic = True\n",
    "torch.backends.cudnn.benchmark = False"
   ]
  },
  {
   "cell_type": "code",
   "execution_count": null,
   "id": "c5766af6",
   "metadata": {},
   "outputs": [],
   "source": [
    "## Model parameters\n",
    "lr = 1e-4\n",
    "num_classes= 10\n",
    "patch_size = 4\n",
    "in_channel = 1\n",
    "num_heads = 8\n",
    "dropout = 0.001\n",
    "hidden_dim = 768\n",
    "activation_fun = \"gelu\"\n",
    "num_encoders = 4\n",
    "image_size = 28\n",
    "embd_dim = (patch_size**2) * in_channel\n",
    "num_patches = (image_size // patch_size) ** 2"
   ]
  },
  {
   "cell_type": "code",
   "execution_count": null,
   "id": "66cdbc84",
   "metadata": {},
   "outputs": [],
   "source": [
    "## Device to use\n",
    "device = \"cuda\" if torch.cuda.is_available() else \"mps\""
   ]
  },
  {
   "cell_type": "code",
   "execution_count": null,
   "id": "8f035be9",
   "metadata": {},
   "outputs": [],
   "source": [
    "## ViT (Vision trasfromer class)\n",
    "class ImagePatcher(nn.Module):\n",
    "    def __init__(self, patch_size, in_channel, embd_dim,num_patches,image_size):\n",
    "        super(ImagePatcher, self).__init__()\n",
    "        self.image_size = image_size\n",
    "        self.num_patches = num_patches\n",
    "        self.proj = nn.Conv2d(in_channel, embd_dim, kernel_size=patch_size, stride=patch_size)\n",
    "        \n",
    "        \n",
    "        self.cls_token = nn.Parameter(torch.randn(size=(1, in_channel, embd_dim)),requires_grad=True)\n",
    "        self.pos_embed = nn.Parameter(torch.randn(size=(1, self.num_patches + 1, embd_dim)),requires_grad=True)\n",
    "        \n",
    "        self.dropout = nn.Dropout(0.001)\n",
    "        \n",
    "    def forward(self, x):\n",
    "        B, C, H, W = x.shape\n",
    "        assert H == W == self.image_size, f\"Input image size ({H}*{W}) doesn't match model ({self.img_size}*{self.img_size}).\"\n",
    "        \n",
    "\n",
    "        x = self.proj(x)  # (B, embd_dim, H', W')\n",
    "        x = x.flatten(2).transpose(1, 2)  # (B, num_patches, embd_dim)\n",
    "        \n",
    "\n",
    "        cls_token = self.cls_token.expand(B, -1, -1)\n",
    "        x = torch.cat([cls_token, x], dim=1)\n",
    "        x= self.dropout(x)\n",
    "        \n",
    "\n",
    "        x = x + self.pos_embed\n",
    "        \n",
    "        return x"
   ]
  },
  {
   "cell_type": "code",
   "execution_count": null,
   "id": "ed1a81b6",
   "metadata": {},
   "outputs": [],
   "source": [
    "class ViT(nn.Module):\n",
    "    def __init__(self, num_patches, image_size, num_classes, patch_size, embd_dim, num_encoders, num_heads, hidden_dim, activation_fun, in_channel):\n",
    "        super().__init__()\n",
    "        \n",
    "        \n",
    "        self.embeddings_block = ImagePatcher(patch_size, in_channel, embd_dim,num_patches,image_size)\n",
    "        \n",
    "        encoder_layer = nn.TransformerEncoderLayer(d_model=embd_dim, nhead=num_heads, dropout=dropout, activation=activation_fun, batch_first=True, norm_first=True)\n",
    "        self.encoder_blocks = nn.TransformerEncoder(encoder_layer, num_layers=num_encoders)\n",
    "\n",
    "        self.mlp_head = nn.Sequential(\n",
    "            nn.LayerNorm(normalized_shape=embd_dim),\n",
    "            nn.Linear(in_features=embd_dim, out_features=num_classes)\n",
    "        )\n",
    "\n",
    "    def forward(self, x):\n",
    "        x = self.embeddings_block(x)\n",
    "        x = self.encoder_blocks(x)\n",
    "        x = self.mlp_head(x[:, 0, :])  \n",
    "        return x\n",
    "model = ViT(num_patches, image_size, num_classes, patch_size, embd_dim, num_encoders, num_heads, hidden_dim, activation_fun, in_channel).to(device)# BATCH_SIZE X NUM_CLASSES"
   ]
  },
  {
   "cell_type": "code",
   "execution_count": null,
   "id": "db29462b",
   "metadata": {},
   "outputs": [],
   "source": [
    "train_df = pd.read_csv('./train.csv')\n",
    "test_df = pd.read_csv('./test.csv')\n",
    "train_df, val_df = train_test_split(train_df, test_size=0.1, random_state=0, shuffle=True)"
   ]
  },
  {
   "cell_type": "code",
   "execution_count": null,
   "id": "41fde6e8",
   "metadata": {},
   "outputs": [],
   "source": [
    "train_df"
   ]
  },
  {
   "cell_type": "code",
   "execution_count": null,
   "id": "8dd6323c",
   "metadata": {},
   "outputs": [],
   "source": [
    "class Traindataset(Dataset):\n",
    "    def __init__(self, image, labels,indicies):\n",
    "        self.image = image\n",
    "        self.labels = labels\n",
    "        self.indicies = indicies\n",
    "        self.transform = transforms.Compose([\n",
    "            transforms.ToPILImage(),\n",
    "            transforms.RandomRotation(15),\n",
    "            transforms.ToTensor(),\n",
    "            transforms.Normalize([0.5], [0.5])\n",
    "        ])\n",
    "    def __len__(self):\n",
    "        return len(self.image)\n",
    "    \n",
    "    def __getitem__(self, idx):\n",
    "        img = self.image[idx].reshape((28, 28)).astype(np.uint8)\n",
    "        label = self.labels[idx]\n",
    "        index = self.indicies[idx]\n",
    "        img = self.transform(img)\n",
    "        \n",
    "        return {\"image\": img, \"label\": label, \"index\": index}\n",
    "    \n",
    "class Valdataset(Dataset):\n",
    "    def __init__(self, image, labels,indicies):\n",
    "        self.image = image\n",
    "        self.labels = labels\n",
    "        self.indicies = indicies\n",
    "        self.transform = transforms.Compose([\n",
    "            transforms.ToTensor(),\n",
    "            transforms.Normalize([0.5], [0.5])\n",
    "        ])\n",
    "    def __len__(self):\n",
    "        return len(self.image)\n",
    "    \n",
    "    def __getitem__(self, idx):\n",
    "        img = self.image[idx].reshape((28, 28)).astype(np.uint8)\n",
    "        label = self.labels[idx]\n",
    "        index = self.indicies[idx]\n",
    "        img = self.transform(img)\n",
    "        \n",
    "        return {\"image\": img, \"label\": label, \"index\": index}\n",
    "\n",
    "class Testdataset(Dataset):\n",
    "    def __init__(self, image,indicies):\n",
    "        self.image = image\n",
    "        self.indicies = indicies\n",
    "        self.transform = transforms.Compose([\n",
    "            transforms.ToTensor(),\n",
    "            transforms.Normalize([0.5], [0.5])\n",
    "        ])\n",
    "    def __len__(self):\n",
    "        return len(self.image)\n",
    "    \n",
    "    def __getitem__(self, idx):\n",
    "        img = self.image[idx].reshape((28, 28)).astype(np.uint8)\n",
    "        index = self.indicies[idx]\n",
    "        img = self.transform(img)\n",
    "        \n",
    "        return {\"image\": img, \"index\": index}\n",
    "        "
   ]
  },
  {
   "cell_type": "code",
   "execution_count": null,
   "id": "e52d9f6f",
   "metadata": {},
   "outputs": [],
   "source": [
    "train_dataset = Traindataset(train_df.iloc[:, 1:].values.astype(np.uint8), train_df.iloc[:, 0].values, train_df.index.values)\n",
    "val_dataset = Valdataset(val_df.iloc[:, 1:].values.astype(np.uint8), val_df.iloc[:, 0].values, val_df.index.values)\n",
    "test_dataset = Testdataset(test_df.values.astype(np.uint8), test_df.index.values)"
   ]
  },
  {
   "cell_type": "code",
   "execution_count": null,
   "id": "1eb6e1d1",
   "metadata": {},
   "outputs": [],
   "source": [
    "train_dataloader = DataLoader(dataset=train_dataset,\n",
    "                              batch_size=512,\n",
    "                              shuffle=True)\n",
    "\n",
    "val_dataloader = DataLoader(dataset=val_dataset,\n",
    "                            batch_size=512,\n",
    "                            shuffle=True)\n",
    "\n",
    "test_dataloader = DataLoader(dataset=test_dataset,\n",
    "                             batch_size=512,\n",
    "                             shuffle=False)"
   ]
  },
  {
   "cell_type": "code",
   "execution_count": null,
   "id": "2037fb96",
   "metadata": {},
   "outputs": [],
   "source": [
    "criterion = nn.CrossEntropyLoss()\n",
    "optimizer = optim.Adam(model.parameters(), betas=(0.9,0.999), lr=0.001, weight_decay=0)"
   ]
  },
  {
   "cell_type": "code",
   "execution_count": null,
   "id": "4a7679f1",
   "metadata": {},
   "outputs": [],
   "source": [
    "EPOCH = 2"
   ]
  },
  {
   "cell_type": "code",
   "execution_count": null,
   "id": "0686e45e",
   "metadata": {},
   "outputs": [],
   "source": [
    "start = timeit.default_timer()\n",
    "for epoch in tqdm(range(EPOCH), position=0, leave=True):\n",
    "    model.train()\n",
    "    train_loss = 0\n",
    "    for idx, data in enumerate(tqdm(train_dataloader, position=0, leave=True)):\n",
    "        img = data['image'].float().to(device)\n",
    "        labl = data['label'].type(torch.uint8).to(device)\n",
    "        \n",
    "        y_pred = model(img)\n",
    "        \n",
    "        loss = criterion(y_pred, labl)\n",
    "        \n",
    "        optimizer.zero_grad()\n",
    "        loss.backward()\n",
    "        optimizer.step()\n",
    "        \n",
    "        train_loss += loss.item()\n",
    "    train_loss = train_loss / (idx + 1)\n",
    "    print(f\"Epoch: {epoch} ; Training loss: {train_loss}\")\n",
    "    print()"
   ]
  },
  {
   "cell_type": "code",
   "execution_count": null,
   "id": "ecd9f44c",
   "metadata": {},
   "outputs": [],
   "source": [
    "model.eval()\n",
    "val_loss = 0\n",
    "with torch.no_grad():\n",
    "    for idx, data in enumerate(tqdm(val_dataloader, position=0, leave=True)):\n",
    "        img = data[\"image\"].float().to(device)\n",
    "        labl = data[\"label\"].type(torch.uint8).to(device)\n",
    "        y_pred = model(img)\n",
    "        loss = criterion(y_pred, labl)\n",
    "        val_loss += loss.item()\n",
    "    val_loss = val_loss / (idx + 1)\n",
    "print(f\"Validation loss: {val_loss}\")"
   ]
  }
 ],
 "metadata": {
  "kernelspec": {
   "display_name": "Python 3 (ipykernel)",
   "language": "python",
   "name": "python3"
  },
  "language_info": {
   "codemirror_mode": {
    "name": "ipython",
    "version": 3
   },
   "file_extension": ".py",
   "mimetype": "text/x-python",
   "name": "python",
   "nbconvert_exporter": "python",
   "pygments_lexer": "ipython3",
   "version": "3.9.12"
  }
 },
 "nbformat": 4,
 "nbformat_minor": 5
}
